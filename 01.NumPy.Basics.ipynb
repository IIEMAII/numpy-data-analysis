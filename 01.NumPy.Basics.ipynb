{
 "cells": [
  {
   "cell_type": "markdown",
   "id": "e8fbe122-ea3f-4cf6-9a77-daebd486cffb",
   "metadata": {},
   "source": [
    "## NumPy array oluşturma (np.array, np.zeros, np.ones, np.arange, np.linspace..)"
   ]
  },
  {
   "cell_type": "code",
   "execution_count": 2,
   "id": "0d3901e3-ab05-440c-9a7a-2b7918e01cdf",
   "metadata": {},
   "outputs": [],
   "source": [
    "import numpy as np"
   ]
  },
  {
   "cell_type": "code",
   "execution_count": 3,
   "id": "8a42d35f-2362-48be-81c2-697c0a478180",
   "metadata": {},
   "outputs": [
    {
     "name": "stdout",
     "output_type": "stream",
     "text": [
      "[[ 1  2  3  4]\n",
      " [ 5  6  7  8]\n",
      " [ 9 10 11 12]]\n",
      "\n",
      "[[0. 0. 0.]\n",
      " [0. 0. 0.]\n",
      " [0. 0. 0.]\n",
      " [0. 0. 0.]]\n",
      "\n",
      "[[7 7 7 7 7]\n",
      " [7 7 7 7 7]\n",
      " [7 7 7 7 7]\n",
      " [7 7 7 7 7]]\n",
      "\n",
      "[[1. 1. 1. 1.]\n",
      " [1. 1. 1. 1.]\n",
      " [1. 1. 1. 1.]]\n",
      "\n",
      "[0 1 2 3]\n",
      "\n",
      "[ 5. 10. 15. 20.]\n",
      "\n",
      "[0.96101771 0.93016608 0.85788607]\n",
      "\n",
      "[38 23  8  4]\n"
     ]
    }
   ],
   "source": [
    "arr = np.array([[1, 2, 3, 4],\n",
    "                   [5, 6, 7, 8],\n",
    "                   [9, 10, 11, 12]])\n",
    "\n",
    "arr_z = np.zeros((4, 3))\n",
    "\n",
    "arr_f = np.full((4, 5), 7)\n",
    "\n",
    "arr_o = np.ones((3, 4))\n",
    "\n",
    "arr_ar = np.arange(4)\n",
    "\n",
    "arr_l = np.linspace(5, 20, 4)\n",
    "\n",
    "arr_r = np.random.rand(3)\n",
    "\n",
    "arr_r_i = np.random.randint(1, 45, 4)\n",
    "\n",
    "print(arr, arr_z, arr_f, arr_o, arr_ar, arr_l, arr_r, arr_r_i, sep=\"\\n\\n\")"
   ]
  },
  {
   "cell_type": "markdown",
   "id": "56383e48-8934-44b7-828a-9a77ee5dc8ab",
   "metadata": {},
   "source": [
    "## Basit işlemler:"
   ]
  },
  {
   "cell_type": "code",
   "execution_count": 5,
   "id": "aeb084c2-75a0-4bcd-bd10-14319869bfaf",
   "metadata": {},
   "outputs": [
    {
     "name": "stdout",
     "output_type": "stream",
     "text": [
      "[[ 2.  3.  4.  5.]\n",
      " [ 6.  7.  8.  9.]\n",
      " [10. 11. 12. 13.]]\n",
      "\n",
      "[[14 14 14 14 14]\n",
      " [14 14 14 14 14]\n",
      " [14 14 14 14 14]\n",
      " [14 14 14 14 14]]\n",
      "\n",
      "[ 33.  13.  -7. -16.]\n",
      "\n",
      "[2.96101771 2.93016608 2.85788607]\n",
      "\n",
      "[[0.2 0.2 0.2 0.2]\n",
      " [0.2 0.2 0.2 0.2]\n",
      " [0.2 0.2 0.2 0.2]]\n",
      "\n",
      "[1444  529   64   16]\n"
     ]
    }
   ],
   "source": [
    "s = arr + arr_o\n",
    "t = arr_f * 2\n",
    "diff = arr_r_i - arr_l\n",
    "add = arr_r + 2\n",
    "div = arr_o / 5\n",
    "exp = arr_r_i ** 2\n",
    "print(s, t, diff, add, div, exp, sep = \"\\n\\n\")"
   ]
  },
  {
   "cell_type": "code",
   "execution_count": 6,
   "id": "21ede93c-99e8-4135-9b5e-6a50b7ad15f1",
   "metadata": {},
   "outputs": [
    {
     "name": "stdout",
     "output_type": "stream",
     "text": [
      "K = \n",
      " [[39 25 11  8]\n",
      " [43 29 15 12]\n",
      " [47 33 19 16]]\n"
     ]
    }
   ],
   "source": [
    "print(\"K = \\n\", np.add(arr, arr_r_i))"
   ]
  },
  {
   "cell_type": "markdown",
   "id": "36f28646-8234-4a79-88d0-4bcf244d7b85",
   "metadata": {},
   "source": [
    "# Broadcasting\n",
    "\n",
    "Broadcasting → Farklı boyutlardaki diziler arasında matematiksel işlem yapmaya olanak tanır.\n",
    "Yani tek tek elemanları eşleştirmene gerek kalmadan, NumPy otomatik olarak uyarlama yapar."
   ]
  },
  {
   "cell_type": "code",
   "execution_count": 8,
   "id": "9dbfa027-e324-41f2-bbec-f5a59f1dec67",
   "metadata": {},
   "outputs": [],
   "source": [
    "import numpy as np"
   ]
  },
  {
   "cell_type": "code",
   "execution_count": 9,
   "id": "e94c7f9e-c130-4920-afe2-8df979b7b00e",
   "metadata": {},
   "outputs": [],
   "source": [
    "k = np.array([1, 2, 3, 4, 5])"
   ]
  },
  {
   "cell_type": "code",
   "execution_count": 10,
   "id": "2c95da96-06aa-442d-b41d-ae0489ca3403",
   "metadata": {},
   "outputs": [
    {
     "name": "stdout",
     "output_type": "stream",
     "text": [
      "[ 6  7  8  9 10]\n"
     ]
    }
   ],
   "source": [
    "print(k + 5)"
   ]
  },
  {
   "cell_type": "code",
   "execution_count": 11,
   "id": "e53f1767-ad6c-4d65-9b68-46931a643b03",
   "metadata": {},
   "outputs": [
    {
     "name": "stdout",
     "output_type": "stream",
     "text": [
      "[-1  0  1  2  3]\n"
     ]
    }
   ],
   "source": [
    "print(k - 2)"
   ]
  },
  {
   "cell_type": "code",
   "execution_count": 12,
   "id": "f2d853d3-f79d-4d6d-84ac-c9665bd09c0c",
   "metadata": {},
   "outputs": [
    {
     "name": "stdout",
     "output_type": "stream",
     "text": [
      "[ 2  4  6  8 10]\n"
     ]
    }
   ],
   "source": [
    "print(k * 2)"
   ]
  },
  {
   "cell_type": "code",
   "execution_count": 13,
   "id": "bbdc0081-9c04-407f-bd75-8aae7ab40930",
   "metadata": {},
   "outputs": [
    {
     "name": "stdout",
     "output_type": "stream",
     "text": [
      "[0 1 1 2 2]\n"
     ]
    }
   ],
   "source": [
    "print(k // 2)"
   ]
  },
  {
   "cell_type": "code",
   "execution_count": 14,
   "id": "890ca41c-3ce6-4f4c-935f-cbeff4336254",
   "metadata": {},
   "outputs": [],
   "source": [
    "mat_1 = np.array([[1, 2, 3],\n",
    "                  [4, 5, 6],\n",
    "                  [7, 8, 9]])\n",
    "mat_2 = np.array([1, 2, 3]) \n",
    "\n",
    "mat_3 = np.array([[1],\n",
    "                  [2],\n",
    "                  [3]])\n",
    "mat_4 = np.array([[1],[2],[3]])"
   ]
  },
  {
   "cell_type": "code",
   "execution_count": 15,
   "id": "f3c16c7c-1756-4450-8366-65ad22c7ec59",
   "metadata": {},
   "outputs": [
    {
     "name": "stdout",
     "output_type": "stream",
     "text": [
      "[[ 2  4  6]\n",
      " [ 5  7  9]\n",
      " [ 8 10 12]]\n"
     ]
    }
   ],
   "source": [
    "print(mat_1 + mat_2)"
   ]
  },
  {
   "cell_type": "code",
   "execution_count": 16,
   "id": "305f25ca-a18d-4e1c-9f0c-ad12740a7dd0",
   "metadata": {},
   "outputs": [
    {
     "name": "stdout",
     "output_type": "stream",
     "text": [
      "[[2 3 4]\n",
      " [3 4 5]\n",
      " [4 5 6]]\n"
     ]
    }
   ],
   "source": [
    "print(mat_2 + mat_3)"
   ]
  },
  {
   "cell_type": "code",
   "execution_count": 17,
   "id": "c3d3adad-2af1-474f-844d-4526e498d93d",
   "metadata": {},
   "outputs": [
    {
     "name": "stdout",
     "output_type": "stream",
     "text": [
      "[[2 3 4]\n",
      " [3 4 5]\n",
      " [4 5 6]]\n"
     ]
    }
   ],
   "source": [
    "b = np.array([1, 2, 3])\n",
    "a = np.array([[1],[2],[3]])\n",
    "\n",
    "print(mat_2 + mat_4)\n",
    "# Burada a sütun, b satır gibi yayılıp 3x3 matris oldu."
   ]
  },
  {
   "cell_type": "code",
   "execution_count": 18,
   "id": "6eff59ae-2d51-4374-9787-5d04fa728e63",
   "metadata": {},
   "outputs": [
    {
     "name": "stdout",
     "output_type": "stream",
     "text": [
      "[[ 0  1  2  3]\n",
      " [ 4  5  6  7]\n",
      " [ 8  9 10 11]\n",
      " [12 13 14 15]]\n"
     ]
    }
   ],
   "source": [
    "mat = np.arange(16).reshape(4, 4)\n",
    "print(mat)"
   ]
  },
  {
   "cell_type": "code",
   "execution_count": 19,
   "id": "277fefcd-f952-4f8b-a7ca-82b501820475",
   "metadata": {},
   "outputs": [
    {
     "name": "stdout",
     "output_type": "stream",
     "text": [
      "[[ 5  6  7  8]\n",
      " [ 9 10 11 12]\n",
      " [13 14 15 16]\n",
      " [17 18 19 20]]\n"
     ]
    }
   ],
   "source": [
    "mat_bir = mat + 5\n",
    "print(mat_bir)"
   ]
  },
  {
   "cell_type": "code",
   "execution_count": 20,
   "id": "c61762e3-3ee7-400f-8462-7f7a97f65ea9",
   "metadata": {},
   "outputs": [
    {
     "name": "stdout",
     "output_type": "stream",
     "text": [
      "[[ 6  8 10 12]\n",
      " [10 12 14 16]\n",
      " [14 16 18 20]\n",
      " [18 20 22 24]]\n"
     ]
    }
   ],
   "source": [
    "mat_iki = mat_bir + np.array([1, 2, 3, 4])\n",
    "print(mat_iki)"
   ]
  },
  {
   "cell_type": "code",
   "execution_count": 21,
   "id": "53436798-9ff6-4c7c-8220-be1d12f5cb0b",
   "metadata": {},
   "outputs": [
    {
     "name": "stdout",
     "output_type": "stream",
     "text": [
      "[[16 18 20 22]\n",
      " [30 32 34 36]\n",
      " [44 46 48 50]\n",
      " [58 60 62 64]]\n"
     ]
    }
   ],
   "source": [
    "mat_uc = mat_iki + np.array([[10],[20],[30],[40]])\n",
    "print(mat_uc)"
   ]
  },
  {
   "cell_type": "markdown",
   "id": "f637fb1b-20e1-4b95-aa81-12c57a2d918b",
   "metadata": {},
   "source": [
    "## Bazı Matematiksel İşlemler:"
   ]
  },
  {
   "cell_type": "code",
   "execution_count": 23,
   "id": "bbb8ac71-d2cb-4898-9cfd-b4cacde3ec1b",
   "metadata": {},
   "outputs": [
    {
     "name": "stdout",
     "output_type": "stream",
     "text": [
      "x = \n",
      "\n",
      "[[10 12 14 16]\n",
      " [20 22 24 26]\n",
      " [30 32 34 36]]\n",
      "\n",
      "y = \n",
      "\n",
      "[[ 0  1  2  3]\n",
      " [ 4  5  6  7]\n",
      " [ 8  9 10 11]]\n"
     ]
    }
   ],
   "source": [
    "import numpy as np\n",
    "\n",
    "x = np.array([[10, 12, 14, 16],\n",
    "             [20, 22, 24, 26],\n",
    "             [30, 32, 34, 36]])\n",
    "y = np.arange(12).reshape((3, 4))\n",
    "\n",
    "print(\"x = \", x, \"y = \", y, sep = \"\\n\\n\")"
   ]
  },
  {
   "cell_type": "code",
   "execution_count": 24,
   "id": "79abe34d-7e65-45f3-95cc-5638355b30c3",
   "metadata": {},
   "outputs": [
    {
     "name": "stdout",
     "output_type": "stream",
     "text": [
      "[[10 13 16 19]\n",
      " [24 27 30 33]\n",
      " [38 41 44 47]]\n"
     ]
    }
   ],
   "source": [
    "add = np.add(x, y)\n",
    "print(add)"
   ]
  },
  {
   "cell_type": "code",
   "execution_count": 25,
   "id": "a11b18ca-ec12-4b94-9217-e7cdd62db115",
   "metadata": {},
   "outputs": [
    {
     "name": "stdout",
     "output_type": "stream",
     "text": [
      "[[10 11 12 13]\n",
      " [16 17 18 19]\n",
      " [22 23 24 25]]\n"
     ]
    }
   ],
   "source": [
    "sb = np.subtract(x, y)\n",
    "print(sb)"
   ]
  },
  {
   "cell_type": "code",
   "execution_count": 26,
   "id": "8af2895a-26a0-425d-a09e-d2d8e76749c4",
   "metadata": {},
   "outputs": [
    {
     "name": "stdout",
     "output_type": "stream",
     "text": [
      "[[  0  12  28  48]\n",
      " [ 80 110 144 182]\n",
      " [240 288 340 396]]\n"
     ]
    }
   ],
   "source": [
    "mlt = np.multiply(x, y)\n",
    "print(mlt)"
   ]
  },
  {
   "cell_type": "code",
   "execution_count": 27,
   "id": "5eb10ca8-42dc-4184-a277-a6408dd55814",
   "metadata": {},
   "outputs": [
    {
     "name": "stdout",
     "output_type": "stream",
     "text": [
      "[[0.         0.08333333 0.14285714 0.1875    ]\n",
      " [0.2        0.22727273 0.25       0.26923077]\n",
      " [0.26666667 0.28125    0.29411765 0.30555556]]\n"
     ]
    }
   ],
   "source": [
    "div = np.divide(y, x)\n",
    "print(div)"
   ]
  },
  {
   "cell_type": "code",
   "execution_count": 28,
   "id": "f82a5d92-9152-469e-97c9-1508c2891f80",
   "metadata": {},
   "outputs": [
    {
     "name": "stdout",
     "output_type": "stream",
     "text": [
      "[[3.16227766 3.46410162 3.74165739 4.        ]\n",
      " [4.47213595 4.69041576 4.89897949 5.09901951]\n",
      " [5.47722558 5.65685425 5.83095189 6.        ]]\n",
      "\n",
      "[[0.         1.         1.41421356 1.73205081]\n",
      " [2.         2.23606798 2.44948974 2.64575131]\n",
      " [2.82842712 3.         3.16227766 3.31662479]]\n"
     ]
    }
   ],
   "source": [
    "sqrt_x = np.sqrt(x)\n",
    "sqrt_y = np.sqrt(y)\n",
    "print(sqrt_x, sqrt_y, sep = \"\\n\\n\")"
   ]
  },
  {
   "cell_type": "code",
   "execution_count": 29,
   "id": "82fc5c11-aca1-4a3b-99ad-09dfb80d26b3",
   "metadata": {},
   "outputs": [
    {
     "name": "stdout",
     "output_type": "stream",
     "text": [
      "[[2.20264658e+04 1.62754791e+05 1.20260428e+06 8.88611052e+06]\n",
      " [4.85165195e+08 3.58491285e+09 2.64891221e+10 1.95729609e+11]\n",
      " [1.06864746e+13 7.89629602e+13 5.83461743e+14 4.31123155e+15]]\n",
      "\n",
      "[[1.00000000e+00 2.71828183e+00 7.38905610e+00 2.00855369e+01]\n",
      " [5.45981500e+01 1.48413159e+02 4.03428793e+02 1.09663316e+03]\n",
      " [2.98095799e+03 8.10308393e+03 2.20264658e+04 5.98741417e+04]]\n"
     ]
    }
   ],
   "source": [
    "exp_x = np.exp(x)\n",
    "exp_y = np.exp(y)\n",
    "\n",
    "print(exp_x, exp_y, sep = \"\\n\\n\")"
   ]
  },
  {
   "cell_type": "code",
   "execution_count": 30,
   "id": "1b257102-75e8-4161-af65-d41e1e818b29",
   "metadata": {},
   "outputs": [
    {
     "name": "stdout",
     "output_type": "stream",
     "text": [
      "[[2.30258509 2.48490665 2.63905733 2.77258872]\n",
      " [2.99573227 3.09104245 3.17805383 3.25809654]\n",
      " [3.40119738 3.4657359  3.52636052 3.58351894]]\n"
     ]
    }
   ],
   "source": [
    "log_x = np.log(x)\n",
    "\n",
    "print(log_x)"
   ]
  },
  {
   "cell_type": "code",
   "execution_count": 31,
   "id": "7ee5265b-5a3f-48a3-aa30-5cfb5ce0112f",
   "metadata": {},
   "outputs": [
    {
     "name": "stdout",
     "output_type": "stream",
     "text": [
      "[[ 100  144  196  256]\n",
      " [ 400  484  576  676]\n",
      " [ 900 1024 1156 1296]]\n",
      "\n",
      "[[   0    1    8   27]\n",
      " [  64  125  216  343]\n",
      " [ 512  729 1000 1331]]\n",
      "\n",
      "[[          1          12         196        4096]\n",
      " [     160000     5153632   191102976  -558124416]\n",
      " [-1029996288           0  1723237376   104857600]]\n"
     ]
    }
   ],
   "source": [
    "pow_x = np.power(x, 2)\n",
    "pow_y = np.power(y, 3)\n",
    "pow_x_y = np.power(x, y)\n",
    "\n",
    "print(pow_x, pow_y, pow_x_y, sep = \"\\n\\n\")"
   ]
  },
  {
   "cell_type": "markdown",
   "id": "108037f2-ed45-434c-951c-5293f4b71eab",
   "metadata": {},
   "source": [
    "## Trigonometrik İşlemler:\n",
    "    np.sin(x)\t\n",
    "    np.cos(x)\t\n",
    "    np.tan(x)\t\n",
    "    np.arcsin(x)\t\n",
    "    np.arccos(x)\t\n",
    "    np.arctan(x)\t\n",
    "    np.deg2rad(x)\t\n",
    "    np.rad2deg(x)"
   ]
  },
  {
   "cell_type": "code",
   "execution_count": 33,
   "id": "7a5f4147-ed80-4e9f-b3c6-2a0b03f135fd",
   "metadata": {},
   "outputs": [],
   "source": [
    "x  = 60"
   ]
  },
  {
   "cell_type": "code",
   "execution_count": 34,
   "id": "3ecf0aa0-3500-4546-9c39-11812692c887",
   "metadata": {},
   "outputs": [
    {
     "name": "stdout",
     "output_type": "stream",
     "text": [
      "-0.3048106211022167\n",
      "-0.9524129804151563\n",
      "0.320040389379563\n"
     ]
    }
   ],
   "source": [
    "s = np.sin(x)\n",
    "c = np.cos(x)\n",
    "t = np.tan(x)\n",
    "\n",
    "print(s, c, t, sep = \"\\n\")"
   ]
  },
  {
   "cell_type": "code",
   "execution_count": 35,
   "id": "cff8c8b8-b113-43c1-9d37-c61a49c887b1",
   "metadata": {},
   "outputs": [],
   "source": [
    "y = 0.5"
   ]
  },
  {
   "cell_type": "code",
   "execution_count": 36,
   "id": "16e0e979-c96d-4d73-ba14-7b37be8b3d6c",
   "metadata": {},
   "outputs": [
    {
     "name": "stdout",
     "output_type": "stream",
     "text": [
      "0.5235987755982989\n",
      "1.0471975511965979\n",
      "0.4636476090008061\n"
     ]
    }
   ],
   "source": [
    "a_s = np.arcsin(y)\n",
    "a_c = np.arccos(y)\n",
    "a_t = np.arctan(y)\n",
    "\n",
    "print(a_s, a_c, a_t, sep = \"\\n\")"
   ]
  },
  {
   "cell_type": "code",
   "execution_count": 37,
   "id": "e59f7ebc-f35b-4bda-9fbc-2ed312bbb788",
   "metadata": {},
   "outputs": [],
   "source": [
    "z = 270"
   ]
  },
  {
   "cell_type": "code",
   "execution_count": 38,
   "id": "37e14b1a-9e5d-4a4c-bb9d-bd6897771a23",
   "metadata": {},
   "outputs": [
    {
     "name": "stdout",
     "output_type": "stream",
     "text": [
      "4.71238898038469\n"
     ]
    }
   ],
   "source": [
    "rad = np.deg2rad(z)\n",
    "print(rad)"
   ]
  },
  {
   "cell_type": "code",
   "execution_count": 39,
   "id": "2cb9773e-7898-45d3-9f96-0758da3d74ff",
   "metadata": {},
   "outputs": [],
   "source": [
    "d = 7"
   ]
  },
  {
   "cell_type": "code",
   "execution_count": 40,
   "id": "7fa17fc3-e683-4da2-b478-87002742b35b",
   "metadata": {},
   "outputs": [
    {
     "name": "stdout",
     "output_type": "stream",
     "text": [
      "401.07045659157626\n"
     ]
    }
   ],
   "source": [
    "deg = np.rad2deg(d)\n",
    "print(deg)"
   ]
  },
  {
   "cell_type": "markdown",
   "id": "ab2e6b0e-42e2-4caf-a41c-ce57bc4232e8",
   "metadata": {},
   "source": [
    "## İstatistiksel İşlemler:\n",
    "    np.mean(x)\t\n",
    "    np.median(x)\t\n",
    "    np.std(x)\t\n",
    "    np.var(x)\n",
    "    np.min(x)\t\n",
    "    np.max(x)\t\n",
    "    np.argmin(x)\t\n",
    "    np.argmax(x)\t\n",
    "    np.percentile(x, q)"
   ]
  },
  {
   "cell_type": "code",
   "execution_count": 42,
   "id": "6e221f49-1e75-41e7-992c-83a6b368e1f1",
   "metadata": {},
   "outputs": [
    {
     "name": "stdout",
     "output_type": "stream",
     "text": [
      "mean :\n",
      "25.571428571428573\n",
      "median :\n",
      "26.0\n",
      "standart sapma :\n",
      "11.108004100739286\n",
      "varyans :\n",
      "123.3877551020408\n",
      "minimum değer :\n",
      "10\n",
      "maksimum değer :\n",
      "44\n",
      "minimum değerin indeksi :\n",
      "0\n",
      "maksimum değerin indeksi :\n",
      "6\n",
      "yüzdelik değeri :\n",
      "16.560000000000002\n"
     ]
    }
   ],
   "source": [
    "yas = np.array([10, 12, 24, 26, 28, 35, 44])\n",
    "\n",
    "mean = np.mean(yas)\t\n",
    "med = np.median(yas)\t\n",
    "std = np.std(yas)\t\n",
    "var = np.var(yas)\n",
    "minimum = np.min(yas)\t\n",
    "maximum = np.max(yas)\t\n",
    "min_I = np.argmin(yas)\t\n",
    "max_I = np.argmax(yas)\t\n",
    "percent_23 = np.percentile(yas, 23)\n",
    "\n",
    "print(\"mean :\", mean, \"median :\", med, \"standart sapma :\", std, \"varyans :\", var, \"minimum değer :\", minimum, \"maksimum değer :\", maximum, \"minimum değerin indeksi :\", min_I, \"maksimum değerin indeksi :\", max_I, \"yüzdelik değeri :\", percent_23, sep = \"\\n\")\n",
    "\n"
   ]
  },
  {
   "cell_type": "markdown",
   "id": "c57d701c-cca3-4c0b-9c09-cbbd86bb01d2",
   "metadata": {},
   "source": [
    "## Yuvarlama Fonksiyonları:\n",
    "\n",
    "    | Fonksiyon        | Açıklama                                      |\n",
    "    | ---------------- | --------------------------------------------- |\n",
    "    | `np.round(x, n)` | Elemanları n basamak olacak şekilde yuvarlar. |\n",
    "    | `np.floor(x)`    | Aşağıya yuvarlar (en küçük tam sayıya).       |\n",
    "    | `np.ceil(x)`     | Yukarıya yuvarlar (en büyük tam sayıya).      |\n",
    "    | `np.trunc(x)`    | Ondalık kısmı atar (keser).                   |\n"
   ]
  },
  {
   "cell_type": "code",
   "execution_count": 44,
   "id": "f82bbcfd-2dd5-426b-9606-08a74aed825f",
   "metadata": {},
   "outputs": [
    {
     "name": "stdout",
     "output_type": "stream",
     "text": [
      "a:  [ 6.  6.  7. 10. 12. 23. 29.] \n",
      "b:  [ 5.  6.  7.  9. 11. 23. 28.] \n",
      "c:  [ 6.  7.  8. 10. 12. 24. 29.] \n",
      "d:  [ 5.  6.  7.  9. 11. 23. 28.]\n"
     ]
    }
   ],
   "source": [
    "ondalikli_sayilar = np.array([5.7, 6.4, 7.3, 9.5, 11.9, 23.47, 28.51])\n",
    "\n",
    "a = np.round(ondalikli_sayilar)\n",
    "b = np.floor(ondalikli_sayilar)\n",
    "c = np.ceil(ondalikli_sayilar)\n",
    "d = np.trunc(ondalikli_sayilar)\n",
    "\n",
    "print(\"a: \", a, \"\\nb: \", b, \"\\nc: \", c, \"\\nd: \", d)"
   ]
  },
  {
   "cell_type": "code",
   "execution_count": null,
   "id": "cc90bb24-cf86-4cb7-b594-f3f8127a6a67",
   "metadata": {},
   "outputs": [],
   "source": []
  }
 ],
 "metadata": {
  "kernelspec": {
   "display_name": "Python [conda env:base] *",
   "language": "python",
   "name": "conda-base-py"
  },
  "language_info": {
   "codemirror_mode": {
    "name": "ipython",
    "version": 3
   },
   "file_extension": ".py",
   "mimetype": "text/x-python",
   "name": "python",
   "nbconvert_exporter": "python",
   "pygments_lexer": "ipython3",
   "version": "3.12.7"
  }
 },
 "nbformat": 4,
 "nbformat_minor": 5
}
