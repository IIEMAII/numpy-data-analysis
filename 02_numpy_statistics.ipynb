{
 "cells": [
  {
   "cell_type": "markdown",
   "id": "2cf5d52b-e3c9-4df7-989d-7ac59fda279c",
   "metadata": {},
   "source": [
    "# İstatistik Fonksiyonları:"
   ]
  },
  {
   "cell_type": "code",
   "execution_count": 2,
   "id": "025ee426-4212-47b9-b30f-46f7fbf5a565",
   "metadata": {},
   "outputs": [],
   "source": [
    "import numpy as np"
   ]
  },
  {
   "cell_type": "code",
   "execution_count": 3,
   "id": "90a538b9-fef4-4f8e-b920-5a37c70a2a35",
   "metadata": {},
   "outputs": [],
   "source": [
    "# mean\n",
    "\n",
    "def my_mean(array):\n",
    "    toplam = 0\n",
    "    for x in array:\n",
    "        toplam = toplam + x\n",
    "        ortalama = toplam / len(array)\n",
    "    print(ortalama)"
   ]
  },
  {
   "cell_type": "code",
   "execution_count": 4,
   "id": "775aaf96-653b-4007-9e1f-dd5b442c62b5",
   "metadata": {},
   "outputs": [],
   "source": [
    "k = np.array([1, 2, 3, 4, 5, 6, 7, 8])"
   ]
  },
  {
   "cell_type": "code",
   "execution_count": 5,
   "id": "b88e28e6-c2c3-40b1-8686-1062ae4ebc50",
   "metadata": {},
   "outputs": [
    {
     "name": "stdout",
     "output_type": "stream",
     "text": [
      "4.5\n"
     ]
    }
   ],
   "source": [
    "my_mean(k)"
   ]
  },
  {
   "cell_type": "code",
   "execution_count": 6,
   "id": "e36d8194-378c-4e1d-9c36-ba725df42f68",
   "metadata": {},
   "outputs": [],
   "source": [
    "# median  \n",
    "                                                       # Geçici sıralama → sorted()\n",
    "def my_median(array):                                  # Kalıcı sıralama → .sort()\n",
    "    sirali = sorted(array)                              \n",
    "    n = len(array)\n",
    "    if n % 2 == 0:\n",
    "        ortanca_1 = sirali[n // 2 - 1]\n",
    "        ortanca_2 = sirali[n // 2]\n",
    "        toplam = ortanca_1 + ortanca_2\n",
    "        print(toplam / 2)\n",
    "    else:\n",
    "        print(sirali[n // 2]) "
   ]
  },
  {
   "cell_type": "code",
   "execution_count": 7,
   "id": "b4036ba4-9588-424e-9d76-96df19e34f36",
   "metadata": {},
   "outputs": [],
   "source": [
    "cift = np.array([1, 2, 3, 4, 5, 6, 7, 8])"
   ]
  },
  {
   "cell_type": "code",
   "execution_count": 8,
   "id": "d4f3636f-7d3c-45a6-bde9-b6b7a1ef1993",
   "metadata": {},
   "outputs": [
    {
     "name": "stdout",
     "output_type": "stream",
     "text": [
      "4.5\n"
     ]
    }
   ],
   "source": [
    "my_median(cift)"
   ]
  },
  {
   "cell_type": "code",
   "execution_count": 9,
   "id": "74ce545b-fa2d-474e-9ec8-111cf3a035fe",
   "metadata": {},
   "outputs": [],
   "source": [
    "tek = np.array([1, 2, 3, 4, 5, 6, 7])"
   ]
  },
  {
   "cell_type": "code",
   "execution_count": 10,
   "id": "62bf8e4f-f5ec-472b-9378-02f215427e6f",
   "metadata": {},
   "outputs": [
    {
     "name": "stdout",
     "output_type": "stream",
     "text": [
      "4\n"
     ]
    }
   ],
   "source": [
    "my_median(tek)"
   ]
  },
  {
   "cell_type": "code",
   "execution_count": 11,
   "id": "b5b9d5d8-6fb7-493b-8860-0106bc4d7ef2",
   "metadata": {},
   "outputs": [
    {
     "name": "stdout",
     "output_type": "stream",
     "text": [
      "5\n"
     ]
    }
   ],
   "source": [
    "d = np.array([5])\n",
    "my_median(d)"
   ]
  },
  {
   "cell_type": "code",
   "execution_count": 12,
   "id": "018fe1da-1de8-4c9a-b352-f55509ab3bff",
   "metadata": {
    "scrolled": true
   },
   "outputs": [],
   "source": [
    "# varians\n",
    "\n",
    "# Varyans bize verilerin ortalama etrafında ne kadar dağıldığını söyler.\n",
    "# Eğer varyans küçükse, değerler birbirine yakın ve düzenlidir. Büyükse, veriler dağınık ve farklıdır.\n",
    "\n",
    "def my_variance(array):\n",
    "\n",
    "# 1. Ortalama (aritmetik ortalama) hesapla   \n",
    "    \n",
    "    mean = sum(array) / len(array)\n",
    "\n",
    "# 2. Her değerden ortalamayı çıkar. Bu farkların karesini al.\n",
    "\n",
    "    squared_diffs = [(x - mean) ** 2 for x in array]\n",
    "\n",
    "# 3. Karesi alınmış farkların ortalamasını al\n",
    "\n",
    "    variance_population = sum(squared_diffs) / len(array)\n",
    "    \n",
    "# 4. Örneklem varyansı için n-1'e böl\n",
    "    \n",
    "    variance_sample = sum(squared_diffs) / (len(array) - 1)\n",
    "\n",
    "    print(\"Ortalama:\", mean)\n",
    "    print(\"Ana kitle varyansı:\", variance_population)\n",
    "    print(\"Örneklem varyansı:\", variance_sample)\n",
    "    "
   ]
  },
  {
   "cell_type": "code",
   "execution_count": 13,
   "id": "6cc48ed7-b8cb-40d5-a325-9a391eee3fb2",
   "metadata": {},
   "outputs": [],
   "source": [
    "d = np.array([2, 4, 6, 8, 5])"
   ]
  },
  {
   "cell_type": "code",
   "execution_count": 14,
   "id": "3360c45b-e1d4-454c-af70-ddb02785ed67",
   "metadata": {},
   "outputs": [
    {
     "name": "stdout",
     "output_type": "stream",
     "text": [
      "Ortalama: 5.0\n",
      "Ana kitle varyansı: 4.0\n",
      "Örneklem varyansı: 5.0\n"
     ]
    }
   ],
   "source": [
    "my_variance(d)"
   ]
  },
  {
   "cell_type": "code",
   "execution_count": 15,
   "id": "32ec9156-3b64-4925-a0c0-c97aa3b667ee",
   "metadata": {},
   "outputs": [],
   "source": [
    "# standart\n",
    "\n",
    "# Varyans \"karesini aldığımız\" için birim değişiyor (örneğin cm², TL² gibi).\n",
    "# Standart sapma alındığında tekrar orijinal birime dönmüş oluyoruz.\n",
    "\n",
    "def my_std(array):\n",
    "\n",
    "# 1. Ortalamayı hesapla.\n",
    "    \n",
    "    mean = sum(array) / len(array)\n",
    "\n",
    "# 2. Her değerden ortalamayı çıkar. Bu farkların karesini al.\n",
    "    \n",
    "    squared_diffs = [(x - mean) ** 2 for x in array]\n",
    "\n",
    "# 3. Karesi alınmış farkların ortalamasını al\n",
    "\n",
    "    variance_population = sum(squared_diffs) / len(array)\n",
    "    sqrt_variance_population = variance_population ** (1/2)\n",
    "    \n",
    "# 4. Örneklem varyansı için n-1'e böl\n",
    "    \n",
    "    variance_sample = sum(squared_diffs) / (len(array) - 1)\n",
    "\n",
    "    print(\"Standart sapma = \", sqrt_variance_population)\n"
   ]
  },
  {
   "cell_type": "code",
   "execution_count": 16,
   "id": "ef108bc0-0ff6-42cf-a2d0-30168d873fad",
   "metadata": {},
   "outputs": [],
   "source": [
    "k = np.array([2, 4, 6, 8])"
   ]
  },
  {
   "cell_type": "code",
   "execution_count": 17,
   "id": "4d1fec1f-321e-4a5d-ad4e-7dfc540d69cb",
   "metadata": {},
   "outputs": [
    {
     "name": "stdout",
     "output_type": "stream",
     "text": [
      "Standart sapma =  2.23606797749979\n"
     ]
    }
   ],
   "source": [
    "my_std(k)"
   ]
  },
  {
   "cell_type": "code",
   "execution_count": 18,
   "id": "160785ba-9fb6-4233-905e-f256b0b4687f",
   "metadata": {},
   "outputs": [],
   "source": [
    "# kolerasyon\n",
    "\n",
    "# Korelasyon, iki değişken arasındaki ilişkinin yönünü ve gücünü ölçen istatistiksel bir değerdir.\n",
    "# +1’e yakınsa → değişkenler arasında pozitif güçlü ilişki vardır. (Biri artarken diğeri de artar.)\n",
    "# -1’e yakınsa → değişkenler arasında negatif güçlü ilişki vardır. (Biri artarken diğeri azalır.)\n",
    "# 0 civarı → aralarında doğrusal ilişki yoktur.\n",
    "\n",
    "def my_correlation(array1, array2):\n",
    "   \n",
    "    mean_x = sum(array1) / len(array1)\n",
    "    mean_y = sum(array2) / len(array2)\n",
    "\n",
    "    squared_diffs_x = ((x - mean_x) ** 2 for x in array1)\n",
    "    squared_diffs_y = ((y - mean_y) ** 2 for y in array2)\n",
    "\n",
    "    up = sum((x - mean_x) * (y - mean_y) for x,y in zip(array1, array2)) \n",
    "    \n",
    "    sum_x = sum(squared_diffs_x)\n",
    "    sum_y = sum(squared_diffs_y)\n",
    "    \n",
    "    down = (sum_x * sum_y) ** (1/2)\n",
    "   \n",
    "    correlation = up / down\n",
    "    \n",
    "    print(\"Korelasyon: \", correlation)\n",
    "\n",
    "    if -1 <= correlation <= -0.5:\n",
    "        print(\"Diziler arasında negatif güçlü ilişki vardır. (Biri artarken diğeri azalır.)\")\n",
    "    elif -0.5 < correlation < 0.5:\n",
    "        print(\"Dizilerin arasında doğrusal ilişki yoktur.\")\n",
    "    elif 0.5 <= correlation <= 1:\n",
    "        print(\"Diziler arasında pozitif güçlü ilişki vardır. (Biri artarken diğeri de artar.)\")"
   ]
  },
  {
   "cell_type": "code",
   "execution_count": 19,
   "id": "881fbc0b-4383-4c50-9f57-59cc1e3d9f48",
   "metadata": {},
   "outputs": [],
   "source": [
    "k = np.array([1, 2, 3, 4, 5, 6, 7, 8, 9])\n",
    "l = np.array([1, 1/2, 1/3, 1/4, 1/5, 1/6, 1/7, 1/8, 1/9])"
   ]
  },
  {
   "cell_type": "code",
   "execution_count": 20,
   "id": "5575ff03-95b5-4a43-89a4-448c2a6eb0f6",
   "metadata": {},
   "outputs": [
    {
     "name": "stdout",
     "output_type": "stream",
     "text": [
      "Korelasyon:  -0.8234927692373332\n",
      "Diziler arasında negatif güçlü ilişki vardır. (Biri artarken diğeri azalır.)\n"
     ]
    }
   ],
   "source": [
    "my_correlation(k, l)"
   ]
  },
  {
   "cell_type": "code",
   "execution_count": 21,
   "id": "d950e8fd-2350-4a6b-aef8-7bbd935857c8",
   "metadata": {},
   "outputs": [
    {
     "name": "stdout",
     "output_type": "stream",
     "text": [
      "Korelasyon:  0.1411471697188641\n",
      "Dizilerin arasında doğrusal ilişki yoktur.\n"
     ]
    }
   ],
   "source": [
    "m = np.array([1, 4, 8, 4, 6, 7, 2])\n",
    "n = np.array([5, 1, 3, 8, 2, 9, 2])\n",
    "\n",
    "my_correlation(m, n)"
   ]
  },
  {
   "cell_type": "code",
   "execution_count": null,
   "id": "0eb62363-2254-4d68-b336-76ea04d51d26",
   "metadata": {},
   "outputs": [],
   "source": []
  }
 ],
 "metadata": {
  "kernelspec": {
   "display_name": "Python [conda env:base] *",
   "language": "python",
   "name": "conda-base-py"
  },
  "language_info": {
   "codemirror_mode": {
    "name": "ipython",
    "version": 3
   },
   "file_extension": ".py",
   "mimetype": "text/x-python",
   "name": "python",
   "nbconvert_exporter": "python",
   "pygments_lexer": "ipython3",
   "version": "3.12.7"
  }
 },
 "nbformat": 4,
 "nbformat_minor": 5
}
